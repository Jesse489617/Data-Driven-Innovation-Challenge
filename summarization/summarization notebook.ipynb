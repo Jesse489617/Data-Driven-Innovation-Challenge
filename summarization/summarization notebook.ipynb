{
 "cells": [
  {
   "cell_type": "code",
   "execution_count": 1,
   "id": "6572aaff",
   "metadata": {},
   "outputs": [],
   "source": [
    "import requests\n",
    "from bs4 import BeautifulSoup\n",
    "\n",
    "def scrape_fandom_page(url):\n",
    "    response = requests.get(url)\n",
    "    response.raise_for_status()\n",
    "    html = response.text\n",
    "\n",
    "    soup = BeautifulSoup(html, 'html.parser')\n",
    "    title = soup.find('h1').text.strip()\n",
    "    content_div = soup.find('div', {'class': 'mw-parser-output'})\n",
    "\n",
    "    chunks = []\n",
    "    current_chunk = []\n",
    "    current_section_title = \"Introduction\"\n",
    "\n",
    "    for tag in content_div.find_all(['h2', 'h3', 'p']):\n",
    "        if tag.name in ['h2', 'h3']:\n",
    "            if current_chunk:\n",
    "                chunks.append({\n",
    "                    \"section\": current_section_title,\n",
    "                    \"text\": \" \".join(current_chunk)\n",
    "                })\n",
    "                current_chunk = []\n",
    "            current_section_title = tag.get_text(strip=True)\n",
    "        elif tag.name == 'p':\n",
    "            text = tag.get_text(strip=True)\n",
    "            if text:\n",
    "                current_chunk.append(text)\n",
    "\n",
    "    if current_chunk:\n",
    "        chunks.append({\n",
    "            \"section\": current_section_title,\n",
    "            \"text\": \" \".join(current_chunk)\n",
    "        })\n",
    "\n",
    "    return {\n",
    "        'title': title,\n",
    "        'url': url,\n",
    "        'chunks': chunks\n",
    "    }\n"
   ]
  },
  {
   "cell_type": "code",
   "execution_count": 2,
   "id": "917394fb",
   "metadata": {},
   "outputs": [
    {
     "name": "stdout",
     "output_type": "stream",
     "text": [
      "Title: Hinata Hyūga\n",
      "\n",
      "=== Introduction ===\n",
      "Hinata Uzumaki(うずまきヒナタ,Uzumaki Hinata,néeHyūga(日向)) is a kunoichi ofKonohagakure. Formerly the heiress of theHyūga clan, she lost the position upon being deemed unsuited for the responsibilities of leading the clan. Nonetheless, Hinataperseveredand from her observation ofNaruto Uzumakiespecially, Hi...\n",
      "\n",
      "=== Background[] ===\n",
      "Hinata and Hanabi fight for the heiress position. Hinata is the oldest daughter ofHiashi Hyūga. When she was still a child, Hinata was almost kidnapped by the-thenHead NinjaofKumogakure, who was visiting Konoha under the guise of signing a peace treaty between their two villages. Hiashi killed him a...\n",
      "\n",
      "=== Personality[] ===\n",
      "As a child, Hinata was soft-spoken and polite, always addressing people with properhonourifics. She is kind, always thinking of others more than for herself, caring for their feelings and well-being. She doesn't like being confrontational for any reason. This led to her being meek or timid to others...\n"
     ]
    }
   ],
   "source": [
    "url = \"https://naruto.fandom.com/wiki/Hinata_Hyūga\"\n",
    "result = scrape_fandom_page(url)\n",
    "\n",
    "print(\"Title:\", result['title'])\n",
    "for chunk in result['chunks'][:3]:\n",
    "    print(\"\\n=== \" + chunk['section'] + \" ===\")\n",
    "    print(chunk['text'][:300] + \"...\")\n"
   ]
  },
  {
   "cell_type": "code",
   "execution_count": 3,
   "id": "407096d5",
   "metadata": {},
   "outputs": [
    {
     "name": "stderr",
     "output_type": "stream",
     "text": [
      "c:\\Users\\Yess\\anaconda3\\envs\\anime-llm-assistant\\lib\\site-packages\\tqdm\\auto.py:21: TqdmWarning: IProgress not found. Please update jupyter and ipywidgets. See https://ipywidgets.readthedocs.io/en/stable/user_install.html\n",
      "  from .autonotebook import tqdm as notebook_tqdm\n"
     ]
    },
    {
     "name": "stdout",
     "output_type": "stream",
     "text": [
      "\n",
      " Original:\n",
      " Hinata Uzumaki(うずまきヒナタ,Uzumaki Hinata,néeHyūga(日向)) is a kunoichi ofKonohagakure. Formerly the heiress of theHyūga clan, she lost the position upon being deemed unsuited for the responsibilities of leading the clan. Nonetheless, Hinataperseveredand from her observation ofNaruto Uzumakiespecially, Hinata found an example to follow. Through her membership withTeam 8, she sought to become strong enough to change herself, if even a little at a time. A few years after theFourth Shinobi World War, Hin\n"
     ]
    },
    {
     "name": "stderr",
     "output_type": "stream",
     "text": [
      "Device set to use cuda:0\n"
     ]
    },
    {
     "name": "stdout",
     "output_type": "stream",
     "text": [
      "\n",
      " Summary:\n",
      " Hinata Uzumaki is a kunoichi ofKonohagakure. Formerly the heiress of theHyūga clan, she lost the position upon being deemed unsuited for the responsibilities of leading the clan. Through her membership withTeam 8, she sought to become strong enough to change herself, if even a little at a time.\n"
     ]
    }
   ],
   "source": [
    "from transformers import pipeline\n",
    "\n",
    "def summarize_text(text, model_name=\"facebook/bart-large-cnn\", max_length=130, min_length=60):\n",
    "    summarizer = pipeline(\"summarization\", model=model_name)\n",
    "    summary = summarizer(text, max_length=max_length, min_length=min_length, do_sample=False)\n",
    "    return summary[0]['summary_text']\n",
    "\n",
    "sample_text = result['chunks'][0]['text']\n",
    "print(\"\\n Original:\\n\", sample_text[:500])\n",
    "\n",
    "summary = summarize_text(sample_text)\n",
    "print(\"\\n Summary:\\n\", summary)"
   ]
  },
  {
   "cell_type": "code",
   "execution_count": 5,
   "id": "8a5a753c",
   "metadata": {},
   "outputs": [
    {
     "name": "stderr",
     "output_type": "stream",
     "text": [
      "Device set to use cuda:0\n"
     ]
    },
    {
     "name": "stdout",
     "output_type": "stream",
     "text": [
      "Summarizing individual chunks:\n",
      "\n",
      "== Introduction ==\n",
      "Hinata Uzumaki is a kunoichi ofKonohagakure. Formerly the heiress of theHyūga clan, she lost the position upon being deemed unsuited for the responsibilities of leading the clan. Through her membership withTeam 8, she sought to become strong enough to change herself, if even a little at a time.\n",
      "\n",
      "== Background[] ==\n",
      "Hinata is the oldest daughter ofHiashi Hyūga. She was raised to be its heiress and her family expected great things from her. But even at a young age, her father came to believe that Hinata was not suited for the role. In the anime, Hinata and Hanabi were pitted against each other to determine who would one day lead the Hyūgas. Because Hinata refused to harm Hanabi, she was defeated and disinherited.\n",
      "\n",
      "== Personality[] ==\n",
      "As a child, Hinata was soft-spoken and polite, always addressing people with properhonourifics. She is kind, always thinking of others more than for herself, caring for their feelings and well-being. This led to her being meek or timid to others, as her overwhelming kindness can render her unable to respond or act for fear of offending somebody. Her father's constant push to alter this personality trait when she was younger only made it worse.\n",
      "\n",
      "== Appearance[] ==\n",
      "Hinata is a girl of fair-complexion who, as a Hyūga, her most distinguishing trait is theByakugan, giving her featureless white eyes (lavender in the anime) She has dark blue hair that she keeps in a bob-cut of different lengths. In Part I, her hair is cut just above her forehead akin to a bowl-cut with chin-length strands framing her face; in Part II, her Hair reaches her lower back and the framing strands reach shoulder-length. She also wears navy blue pants, black, low-heeled sandals, and changes the cloth of\n",
      "\n",
      "== Abilities[] ==\n",
      "Hinata's gentle personality hindered her performance. She was deemed too weak and unworthy for the role of heir. Over a decade later, Hinata's prowess continued to improve, reachingJōnin-level prowess despite declining the promotion to it. Two years after the war, she proves to be crucial in the destruction of theTenseigan, even though she herself can't destroy it.\n",
      "\n",
      " Final Summary of Combined Summaries:\n",
      "Hinata Uzumaki is a kunoichi ofKonohagakure. Formerly the heiress of theHyūga clan, she lost the position upon being deemed unsuited for the responsibilities of leading the clan. As a child, Hinata was soft-spoken and polite, always addressing people with properhonourifics. She is kind, always thinking of others more than for herself.\n"
     ]
    }
   ],
   "source": [
    "from transformers import pipeline\n",
    "\n",
    "summarizer = pipeline(\"summarization\", model=\"facebook/bart-large-cnn\")\n",
    "\n",
    "individual_summaries = []\n",
    "print(\"Summarizing individual chunks:\")\n",
    "for i, chunk in enumerate(result['chunks'][:5]):\n",
    "    print(f\"\\n== {chunk['section']} ==\")\n",
    "    chunk_text = chunk['text']\n",
    "    \n",
    "    if len(chunk_text) > 1200:\n",
    "        chunk_text = chunk_text[:1200]\n",
    "\n",
    "    summary = summarizer(chunk_text, max_length=130, min_length=60, do_sample=False)[0]['summary_text']\n",
    "    print(summary)\n",
    "    individual_summaries.append(summary)\n",
    "\n",
    "combined_summaries_text = \" \".join(individual_summaries)\n",
    "\n",
    "print(\"\\n Final Summary of Combined Summaries:\")\n",
    "final_summary = summarizer(combined_summaries_text, max_length=150, min_length=70, do_sample=False)[0]['summary_text']\n",
    "print(final_summary)\n"
   ]
  }
 ],
 "metadata": {
  "kernelspec": {
   "display_name": "anime-llm-assistant",
   "language": "python",
   "name": "python3"
  },
  "language_info": {
   "codemirror_mode": {
    "name": "ipython",
    "version": 3
   },
   "file_extension": ".py",
   "mimetype": "text/x-python",
   "name": "python",
   "nbconvert_exporter": "python",
   "pygments_lexer": "ipython3",
   "version": "3.10.16"
  }
 },
 "nbformat": 4,
 "nbformat_minor": 5
}
